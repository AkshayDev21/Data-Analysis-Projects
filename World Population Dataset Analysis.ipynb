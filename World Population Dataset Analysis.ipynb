{
 "cells": [
  {
   "cell_type": "code",
   "execution_count": 2,
   "id": "2a6efbfc",
   "metadata": {},
   "outputs": [],
   "source": [
    "import pandas as pd\n",
    "import numpy as np\n",
    "import seaborn as sns\n",
    "import matplotlib.pyplot as plt\n",
    "%matplotlib inline"
   ]
  },
  {
   "cell_type": "code",
   "execution_count": null,
   "id": "80c97d4b",
   "metadata": {},
   "outputs": [],
   "source": []
  },
  {
   "cell_type": "markdown",
   "id": "2b62746b",
   "metadata": {},
   "source": [
    "\n",
    "# Latest Dataset"
   ]
  },
  {
   "cell_type": "code",
   "execution_count": 3,
   "id": "271b704b",
   "metadata": {},
   "outputs": [],
   "source": [
    "df1 = pd.read_csv('2022_population.csv')"
   ]
  },
  {
   "cell_type": "code",
   "execution_count": 4,
   "id": "36f0e087",
   "metadata": {},
   "outputs": [
    {
     "data": {
      "text/html": [
       "<div>\n",
       "<style scoped>\n",
       "    .dataframe tbody tr th:only-of-type {\n",
       "        vertical-align: middle;\n",
       "    }\n",
       "\n",
       "    .dataframe tbody tr th {\n",
       "        vertical-align: top;\n",
       "    }\n",
       "\n",
       "    .dataframe thead th {\n",
       "        text-align: right;\n",
       "    }\n",
       "</style>\n",
       "<table border=\"1\" class=\"dataframe\">\n",
       "  <thead>\n",
       "    <tr style=\"text-align: right;\">\n",
       "      <th></th>\n",
       "      <th>iso_code</th>\n",
       "      <th>country</th>\n",
       "      <th>2022_last_updated</th>\n",
       "      <th>2020_population</th>\n",
       "      <th>area</th>\n",
       "      <th>density_sq_km</th>\n",
       "      <th>growth_rate</th>\n",
       "      <th>world_%</th>\n",
       "      <th>rank</th>\n",
       "    </tr>\n",
       "  </thead>\n",
       "  <tbody>\n",
       "    <tr>\n",
       "      <th>0</th>\n",
       "      <td>CHN</td>\n",
       "      <td>China</td>\n",
       "      <td>1,447,026,721</td>\n",
       "      <td>1,439,323,776</td>\n",
       "      <td>9,706,961 sq_km</td>\n",
       "      <td>149/sq_km</td>\n",
       "      <td>0.29%</td>\n",
       "      <td>18.21%</td>\n",
       "      <td>1</td>\n",
       "    </tr>\n",
       "    <tr>\n",
       "      <th>1</th>\n",
       "      <td>IND</td>\n",
       "      <td>India</td>\n",
       "      <td>1,402,170,311</td>\n",
       "      <td>1,380,004,385</td>\n",
       "      <td>3,287,590 sq_km</td>\n",
       "      <td>428/sq_km</td>\n",
       "      <td>0.95%</td>\n",
       "      <td>17.68%</td>\n",
       "      <td>2</td>\n",
       "    </tr>\n",
       "    <tr>\n",
       "      <th>2</th>\n",
       "      <td>USA</td>\n",
       "      <td>United States</td>\n",
       "      <td>334,159,979</td>\n",
       "      <td>331,002,651</td>\n",
       "      <td>9,372,610 sq_km</td>\n",
       "      <td>36/sq_km</td>\n",
       "      <td>0.57%</td>\n",
       "      <td>4.21%</td>\n",
       "      <td>3</td>\n",
       "    </tr>\n",
       "    <tr>\n",
       "      <th>3</th>\n",
       "      <td>IDN</td>\n",
       "      <td>Indonesia</td>\n",
       "      <td>278,195,834</td>\n",
       "      <td>273,523,615</td>\n",
       "      <td>1,904,569 sq_km</td>\n",
       "      <td>147/sq_km</td>\n",
       "      <td>1.00%</td>\n",
       "      <td>3.51%</td>\n",
       "      <td>4</td>\n",
       "    </tr>\n",
       "    <tr>\n",
       "      <th>4</th>\n",
       "      <td>PAK</td>\n",
       "      <td>Pakistan</td>\n",
       "      <td>228,044,068</td>\n",
       "      <td>220,892,340</td>\n",
       "      <td>881,912 sq_km</td>\n",
       "      <td>260/sq_km</td>\n",
       "      <td>1.90%</td>\n",
       "      <td>2.89%</td>\n",
       "      <td>5</td>\n",
       "    </tr>\n",
       "  </tbody>\n",
       "</table>\n",
       "</div>"
      ],
      "text/plain": [
       "  iso_code        country 2022_last_updated 2020_population             area  \\\n",
       "0      CHN          China     1,447,026,721   1,439,323,776  9,706,961 sq_km   \n",
       "1      IND          India     1,402,170,311   1,380,004,385  3,287,590 sq_km   \n",
       "2      USA  United States       334,159,979     331,002,651  9,372,610 sq_km   \n",
       "3      IDN      Indonesia       278,195,834     273,523,615  1,904,569 sq_km   \n",
       "4      PAK       Pakistan       228,044,068     220,892,340    881,912 sq_km   \n",
       "\n",
       "  density_sq_km growth_rate world_%  rank  \n",
       "0     149/sq_km       0.29%  18.21%     1  \n",
       "1     428/sq_km       0.95%  17.68%     2  \n",
       "2      36/sq_km       0.57%   4.21%     3  \n",
       "3     147/sq_km       1.00%   3.51%     4  \n",
       "4     260/sq_km       1.90%   2.89%     5  "
      ]
     },
     "execution_count": 4,
     "metadata": {},
     "output_type": "execute_result"
    }
   ],
   "source": [
    "df1.head()"
   ]
  },
  {
   "cell_type": "code",
   "execution_count": 5,
   "id": "addd8936",
   "metadata": {},
   "outputs": [
    {
     "data": {
      "text/html": [
       "<div>\n",
       "<style scoped>\n",
       "    .dataframe tbody tr th:only-of-type {\n",
       "        vertical-align: middle;\n",
       "    }\n",
       "\n",
       "    .dataframe tbody tr th {\n",
       "        vertical-align: top;\n",
       "    }\n",
       "\n",
       "    .dataframe thead th {\n",
       "        text-align: right;\n",
       "    }\n",
       "</style>\n",
       "<table border=\"1\" class=\"dataframe\">\n",
       "  <thead>\n",
       "    <tr style=\"text-align: right;\">\n",
       "      <th></th>\n",
       "      <th>iso_code</th>\n",
       "      <th>country</th>\n",
       "      <th>2022_last_updated</th>\n",
       "      <th>2020_population</th>\n",
       "      <th>area</th>\n",
       "      <th>density_sq_km</th>\n",
       "      <th>growth_rate</th>\n",
       "      <th>world_%</th>\n",
       "      <th>rank</th>\n",
       "    </tr>\n",
       "  </thead>\n",
       "  <tbody>\n",
       "    <tr>\n",
       "      <th>219</th>\n",
       "      <td>MSR</td>\n",
       "      <td>Montserrat</td>\n",
       "      <td>4,965</td>\n",
       "      <td>4,992</td>\n",
       "      <td>102 sq_km</td>\n",
       "      <td>49/sq_km</td>\n",
       "      <td>-0.24%</td>\n",
       "      <td>0.00%</td>\n",
       "      <td>228</td>\n",
       "    </tr>\n",
       "    <tr>\n",
       "      <th>220</th>\n",
       "      <td>FLK</td>\n",
       "      <td>Falkland Islands</td>\n",
       "      <td>3,539</td>\n",
       "      <td>3,480</td>\n",
       "      <td>12,173 sq_km</td>\n",
       "      <td>0/sq_km</td>\n",
       "      <td>0.17%</td>\n",
       "      <td>0.00%</td>\n",
       "      <td>229</td>\n",
       "    </tr>\n",
       "    <tr>\n",
       "      <th>221</th>\n",
       "      <td>NIU</td>\n",
       "      <td>Niue</td>\n",
       "      <td>1,622</td>\n",
       "      <td>1,626</td>\n",
       "      <td>260 sq_km</td>\n",
       "      <td>6/sq_km</td>\n",
       "      <td>0.19%</td>\n",
       "      <td>0.00%</td>\n",
       "      <td>230</td>\n",
       "    </tr>\n",
       "    <tr>\n",
       "      <th>222</th>\n",
       "      <td>TKL</td>\n",
       "      <td>Tokelau</td>\n",
       "      <td>1,378</td>\n",
       "      <td>1,357</td>\n",
       "      <td>12 sq_km</td>\n",
       "      <td>115/sq_km</td>\n",
       "      <td>0.36%</td>\n",
       "      <td>0.00%</td>\n",
       "      <td>231</td>\n",
       "    </tr>\n",
       "    <tr>\n",
       "      <th>223</th>\n",
       "      <td>VAT</td>\n",
       "      <td>Vatican City</td>\n",
       "      <td>799</td>\n",
       "      <td>801</td>\n",
       "      <td>1 sq_km</td>\n",
       "      <td>799/sq_km</td>\n",
       "      <td>-0.12%</td>\n",
       "      <td>0.00%</td>\n",
       "      <td>232</td>\n",
       "    </tr>\n",
       "  </tbody>\n",
       "</table>\n",
       "</div>"
      ],
      "text/plain": [
       "    iso_code           country 2022_last_updated 2020_population  \\\n",
       "219      MSR        Montserrat             4,965           4,992   \n",
       "220      FLK  Falkland Islands             3,539           3,480   \n",
       "221      NIU              Niue             1,622           1,626   \n",
       "222      TKL           Tokelau             1,378           1,357   \n",
       "223      VAT      Vatican City               799             801   \n",
       "\n",
       "             area density_sq_km growth_rate world_%  rank  \n",
       "219     102 sq_km      49/sq_km      -0.24%   0.00%   228  \n",
       "220  12,173 sq_km       0/sq_km       0.17%   0.00%   229  \n",
       "221     260 sq_km       6/sq_km       0.19%   0.00%   230  \n",
       "222      12 sq_km     115/sq_km       0.36%   0.00%   231  \n",
       "223       1 sq_km     799/sq_km      -0.12%   0.00%   232  "
      ]
     },
     "execution_count": 5,
     "metadata": {},
     "output_type": "execute_result"
    }
   ],
   "source": [
    "df1.tail()"
   ]
  },
  {
   "cell_type": "code",
   "execution_count": 6,
   "id": "0f104d6f",
   "metadata": {},
   "outputs": [],
   "source": [
    "df1.drop(['iso_code', 'area', 'density_sq_km', 'world_%'], axis=1, inplace=True)"
   ]
  },
  {
   "cell_type": "code",
   "execution_count": 7,
   "id": "6d33bae0",
   "metadata": {},
   "outputs": [
    {
     "data": {
      "text/html": [
       "<div>\n",
       "<style scoped>\n",
       "    .dataframe tbody tr th:only-of-type {\n",
       "        vertical-align: middle;\n",
       "    }\n",
       "\n",
       "    .dataframe tbody tr th {\n",
       "        vertical-align: top;\n",
       "    }\n",
       "\n",
       "    .dataframe thead th {\n",
       "        text-align: right;\n",
       "    }\n",
       "</style>\n",
       "<table border=\"1\" class=\"dataframe\">\n",
       "  <thead>\n",
       "    <tr style=\"text-align: right;\">\n",
       "      <th></th>\n",
       "      <th>country</th>\n",
       "      <th>2022_last_updated</th>\n",
       "      <th>2020_population</th>\n",
       "      <th>growth_rate</th>\n",
       "      <th>rank</th>\n",
       "    </tr>\n",
       "  </thead>\n",
       "  <tbody>\n",
       "    <tr>\n",
       "      <th>0</th>\n",
       "      <td>China</td>\n",
       "      <td>1,447,026,721</td>\n",
       "      <td>1,439,323,776</td>\n",
       "      <td>0.29%</td>\n",
       "      <td>1</td>\n",
       "    </tr>\n",
       "    <tr>\n",
       "      <th>1</th>\n",
       "      <td>India</td>\n",
       "      <td>1,402,170,311</td>\n",
       "      <td>1,380,004,385</td>\n",
       "      <td>0.95%</td>\n",
       "      <td>2</td>\n",
       "    </tr>\n",
       "    <tr>\n",
       "      <th>2</th>\n",
       "      <td>United States</td>\n",
       "      <td>334,159,979</td>\n",
       "      <td>331,002,651</td>\n",
       "      <td>0.57%</td>\n",
       "      <td>3</td>\n",
       "    </tr>\n",
       "    <tr>\n",
       "      <th>3</th>\n",
       "      <td>Indonesia</td>\n",
       "      <td>278,195,834</td>\n",
       "      <td>273,523,615</td>\n",
       "      <td>1.00%</td>\n",
       "      <td>4</td>\n",
       "    </tr>\n",
       "    <tr>\n",
       "      <th>4</th>\n",
       "      <td>Pakistan</td>\n",
       "      <td>228,044,068</td>\n",
       "      <td>220,892,340</td>\n",
       "      <td>1.90%</td>\n",
       "      <td>5</td>\n",
       "    </tr>\n",
       "    <tr>\n",
       "      <th>5</th>\n",
       "      <td>Nigeria</td>\n",
       "      <td>214,937,134</td>\n",
       "      <td>206,139,589</td>\n",
       "      <td>2.53%</td>\n",
       "      <td>6</td>\n",
       "    </tr>\n",
       "    <tr>\n",
       "      <th>6</th>\n",
       "      <td>Brazil</td>\n",
       "      <td>214,894,630</td>\n",
       "      <td>212,559,417</td>\n",
       "      <td>0.64%</td>\n",
       "      <td>7</td>\n",
       "    </tr>\n",
       "    <tr>\n",
       "      <th>7</th>\n",
       "      <td>Bangladesh</td>\n",
       "      <td>167,354,615</td>\n",
       "      <td>164,689,383</td>\n",
       "      <td>0.95%</td>\n",
       "      <td>8</td>\n",
       "    </tr>\n",
       "    <tr>\n",
       "      <th>8</th>\n",
       "      <td>Russia</td>\n",
       "      <td>145,836,446</td>\n",
       "      <td>145,934,462</td>\n",
       "      <td>-0.07%</td>\n",
       "      <td>9</td>\n",
       "    </tr>\n",
       "    <tr>\n",
       "      <th>9</th>\n",
       "      <td>Mexico</td>\n",
       "      <td>131,123,441</td>\n",
       "      <td>128,932,753</td>\n",
       "      <td>1.00%</td>\n",
       "      <td>10</td>\n",
       "    </tr>\n",
       "  </tbody>\n",
       "</table>\n",
       "</div>"
      ],
      "text/plain": [
       "         country 2022_last_updated 2020_population growth_rate  rank\n",
       "0          China     1,447,026,721   1,439,323,776       0.29%     1\n",
       "1          India     1,402,170,311   1,380,004,385       0.95%     2\n",
       "2  United States       334,159,979     331,002,651       0.57%     3\n",
       "3      Indonesia       278,195,834     273,523,615       1.00%     4\n",
       "4       Pakistan       228,044,068     220,892,340       1.90%     5\n",
       "5        Nigeria       214,937,134     206,139,589       2.53%     6\n",
       "6         Brazil       214,894,630     212,559,417       0.64%     7\n",
       "7     Bangladesh       167,354,615     164,689,383       0.95%     8\n",
       "8         Russia       145,836,446     145,934,462      -0.07%     9\n",
       "9         Mexico       131,123,441     128,932,753       1.00%    10"
      ]
     },
     "execution_count": 7,
     "metadata": {},
     "output_type": "execute_result"
    }
   ],
   "source": [
    "df1.head(10)"
   ]
  },
  {
   "cell_type": "code",
   "execution_count": 8,
   "id": "215bc412",
   "metadata": {},
   "outputs": [
    {
     "data": {
      "text/plain": [
       "country              0\n",
       "2022_last_updated    0\n",
       "2020_population      0\n",
       "growth_rate          0\n",
       "rank                 0\n",
       "dtype: int64"
      ]
     },
     "execution_count": 8,
     "metadata": {},
     "output_type": "execute_result"
    }
   ],
   "source": [
    "df1.isnull().sum()"
   ]
  },
  {
   "cell_type": "code",
   "execution_count": 9,
   "id": "b8250fcb",
   "metadata": {},
   "outputs": [
    {
     "data": {
      "text/plain": [
       "(224, 5)"
      ]
     },
     "execution_count": 9,
     "metadata": {},
     "output_type": "execute_result"
    }
   ],
   "source": [
    "df1.shape"
   ]
  },
  {
   "cell_type": "code",
   "execution_count": 10,
   "id": "d484257e",
   "metadata": {},
   "outputs": [
    {
     "data": {
      "text/plain": [
       "country              object\n",
       "2022_last_updated    object\n",
       "2020_population      object\n",
       "growth_rate          object\n",
       "rank                  int64\n",
       "dtype: object"
      ]
     },
     "execution_count": 10,
     "metadata": {},
     "output_type": "execute_result"
    }
   ],
   "source": [
    "df1.dtypes"
   ]
  },
  {
   "cell_type": "code",
   "execution_count": 11,
   "id": "ba4a8605",
   "metadata": {},
   "outputs": [
    {
     "data": {
      "text/html": [
       "<div>\n",
       "<style scoped>\n",
       "    .dataframe tbody tr th:only-of-type {\n",
       "        vertical-align: middle;\n",
       "    }\n",
       "\n",
       "    .dataframe tbody tr th {\n",
       "        vertical-align: top;\n",
       "    }\n",
       "\n",
       "    .dataframe thead th {\n",
       "        text-align: right;\n",
       "    }\n",
       "</style>\n",
       "<table border=\"1\" class=\"dataframe\">\n",
       "  <thead>\n",
       "    <tr style=\"text-align: right;\">\n",
       "      <th></th>\n",
       "      <th>country</th>\n",
       "      <th>2022_last_updated</th>\n",
       "      <th>2020_population</th>\n",
       "      <th>growth_rate</th>\n",
       "      <th>rank</th>\n",
       "    </tr>\n",
       "  </thead>\n",
       "  <tbody>\n",
       "    <tr>\n",
       "      <th>count</th>\n",
       "      <td>224</td>\n",
       "      <td>224</td>\n",
       "      <td>224</td>\n",
       "      <td>224</td>\n",
       "      <td>224.000000</td>\n",
       "    </tr>\n",
       "    <tr>\n",
       "      <th>unique</th>\n",
       "      <td>224</td>\n",
       "      <td>224</td>\n",
       "      <td>224</td>\n",
       "      <td>163</td>\n",
       "      <td>NaN</td>\n",
       "    </tr>\n",
       "    <tr>\n",
       "      <th>top</th>\n",
       "      <td>Saint Pierre And Miquelon</td>\n",
       "      <td>900,875</td>\n",
       "      <td>5,421,241</td>\n",
       "      <td>0.75%</td>\n",
       "      <td>NaN</td>\n",
       "    </tr>\n",
       "    <tr>\n",
       "      <th>freq</th>\n",
       "      <td>1</td>\n",
       "      <td>1</td>\n",
       "      <td>1</td>\n",
       "      <td>4</td>\n",
       "      <td>NaN</td>\n",
       "    </tr>\n",
       "    <tr>\n",
       "      <th>mean</th>\n",
       "      <td>NaN</td>\n",
       "      <td>NaN</td>\n",
       "      <td>NaN</td>\n",
       "      <td>NaN</td>\n",
       "      <td>115.008929</td>\n",
       "    </tr>\n",
       "    <tr>\n",
       "      <th>std</th>\n",
       "      <td>NaN</td>\n",
       "      <td>NaN</td>\n",
       "      <td>NaN</td>\n",
       "      <td>NaN</td>\n",
       "      <td>66.840684</td>\n",
       "    </tr>\n",
       "    <tr>\n",
       "      <th>min</th>\n",
       "      <td>NaN</td>\n",
       "      <td>NaN</td>\n",
       "      <td>NaN</td>\n",
       "      <td>NaN</td>\n",
       "      <td>1.000000</td>\n",
       "    </tr>\n",
       "    <tr>\n",
       "      <th>25%</th>\n",
       "      <td>NaN</td>\n",
       "      <td>NaN</td>\n",
       "      <td>NaN</td>\n",
       "      <td>NaN</td>\n",
       "      <td>57.750000</td>\n",
       "    </tr>\n",
       "    <tr>\n",
       "      <th>50%</th>\n",
       "      <td>NaN</td>\n",
       "      <td>NaN</td>\n",
       "      <td>NaN</td>\n",
       "      <td>NaN</td>\n",
       "      <td>113.500000</td>\n",
       "    </tr>\n",
       "    <tr>\n",
       "      <th>75%</th>\n",
       "      <td>NaN</td>\n",
       "      <td>NaN</td>\n",
       "      <td>NaN</td>\n",
       "      <td>NaN</td>\n",
       "      <td>171.250000</td>\n",
       "    </tr>\n",
       "    <tr>\n",
       "      <th>max</th>\n",
       "      <td>NaN</td>\n",
       "      <td>NaN</td>\n",
       "      <td>NaN</td>\n",
       "      <td>NaN</td>\n",
       "      <td>232.000000</td>\n",
       "    </tr>\n",
       "  </tbody>\n",
       "</table>\n",
       "</div>"
      ],
      "text/plain": [
       "                          country 2022_last_updated 2020_population  \\\n",
       "count                         224               224             224   \n",
       "unique                        224               224             224   \n",
       "top     Saint Pierre And Miquelon           900,875       5,421,241   \n",
       "freq                            1                 1               1   \n",
       "mean                          NaN               NaN             NaN   \n",
       "std                           NaN               NaN             NaN   \n",
       "min                           NaN               NaN             NaN   \n",
       "25%                           NaN               NaN             NaN   \n",
       "50%                           NaN               NaN             NaN   \n",
       "75%                           NaN               NaN             NaN   \n",
       "max                           NaN               NaN             NaN   \n",
       "\n",
       "       growth_rate        rank  \n",
       "count          224  224.000000  \n",
       "unique         163         NaN  \n",
       "top          0.75%         NaN  \n",
       "freq             4         NaN  \n",
       "mean           NaN  115.008929  \n",
       "std            NaN   66.840684  \n",
       "min            NaN    1.000000  \n",
       "25%            NaN   57.750000  \n",
       "50%            NaN  113.500000  \n",
       "75%            NaN  171.250000  \n",
       "max            NaN  232.000000  "
      ]
     },
     "execution_count": 11,
     "metadata": {},
     "output_type": "execute_result"
    }
   ],
   "source": [
    "df1.describe(include='all')"
   ]
  },
  {
   "cell_type": "markdown",
   "id": "40a5ed04",
   "metadata": {},
   "source": [
    "# Data Cleaning"
   ]
  },
  {
   "cell_type": "code",
   "execution_count": 12,
   "id": "46e6eade",
   "metadata": {},
   "outputs": [],
   "source": [
    "# Replace commas with nothing for 2022 column \n",
    "df1['2022_last_updated'] = df1['2022_last_updated'].str.replace(',', '')"
   ]
  },
  {
   "cell_type": "code",
   "execution_count": 13,
   "id": "1990d8f2",
   "metadata": {},
   "outputs": [
    {
     "data": {
      "text/html": [
       "<div>\n",
       "<style scoped>\n",
       "    .dataframe tbody tr th:only-of-type {\n",
       "        vertical-align: middle;\n",
       "    }\n",
       "\n",
       "    .dataframe tbody tr th {\n",
       "        vertical-align: top;\n",
       "    }\n",
       "\n",
       "    .dataframe thead th {\n",
       "        text-align: right;\n",
       "    }\n",
       "</style>\n",
       "<table border=\"1\" class=\"dataframe\">\n",
       "  <thead>\n",
       "    <tr style=\"text-align: right;\">\n",
       "      <th></th>\n",
       "      <th>country</th>\n",
       "      <th>2022_last_updated</th>\n",
       "      <th>2020_population</th>\n",
       "      <th>growth_rate</th>\n",
       "      <th>rank</th>\n",
       "    </tr>\n",
       "  </thead>\n",
       "  <tbody>\n",
       "    <tr>\n",
       "      <th>0</th>\n",
       "      <td>China</td>\n",
       "      <td>1447026721</td>\n",
       "      <td>1,439,323,776</td>\n",
       "      <td>0.29%</td>\n",
       "      <td>1</td>\n",
       "    </tr>\n",
       "    <tr>\n",
       "      <th>1</th>\n",
       "      <td>India</td>\n",
       "      <td>1402170311</td>\n",
       "      <td>1,380,004,385</td>\n",
       "      <td>0.95%</td>\n",
       "      <td>2</td>\n",
       "    </tr>\n",
       "    <tr>\n",
       "      <th>2</th>\n",
       "      <td>United States</td>\n",
       "      <td>334159979</td>\n",
       "      <td>331,002,651</td>\n",
       "      <td>0.57%</td>\n",
       "      <td>3</td>\n",
       "    </tr>\n",
       "    <tr>\n",
       "      <th>3</th>\n",
       "      <td>Indonesia</td>\n",
       "      <td>278195834</td>\n",
       "      <td>273,523,615</td>\n",
       "      <td>1.00%</td>\n",
       "      <td>4</td>\n",
       "    </tr>\n",
       "    <tr>\n",
       "      <th>4</th>\n",
       "      <td>Pakistan</td>\n",
       "      <td>228044068</td>\n",
       "      <td>220,892,340</td>\n",
       "      <td>1.90%</td>\n",
       "      <td>5</td>\n",
       "    </tr>\n",
       "  </tbody>\n",
       "</table>\n",
       "</div>"
      ],
      "text/plain": [
       "         country 2022_last_updated 2020_population growth_rate  rank\n",
       "0          China        1447026721   1,439,323,776       0.29%     1\n",
       "1          India        1402170311   1,380,004,385       0.95%     2\n",
       "2  United States         334159979     331,002,651       0.57%     3\n",
       "3      Indonesia         278195834     273,523,615       1.00%     4\n",
       "4       Pakistan         228044068     220,892,340       1.90%     5"
      ]
     },
     "execution_count": 13,
     "metadata": {},
     "output_type": "execute_result"
    }
   ],
   "source": [
    "df1.head()"
   ]
  },
  {
   "cell_type": "code",
   "execution_count": 14,
   "id": "ca81733f",
   "metadata": {},
   "outputs": [],
   "source": [
    "# Replace commas with nothing for 2020 column \n",
    "df1['2020_population'] = df1['2020_population'].str.replace(',', '')"
   ]
  },
  {
   "cell_type": "code",
   "execution_count": 15,
   "id": "ff69c285",
   "metadata": {},
   "outputs": [
    {
     "data": {
      "text/html": [
       "<div>\n",
       "<style scoped>\n",
       "    .dataframe tbody tr th:only-of-type {\n",
       "        vertical-align: middle;\n",
       "    }\n",
       "\n",
       "    .dataframe tbody tr th {\n",
       "        vertical-align: top;\n",
       "    }\n",
       "\n",
       "    .dataframe thead th {\n",
       "        text-align: right;\n",
       "    }\n",
       "</style>\n",
       "<table border=\"1\" class=\"dataframe\">\n",
       "  <thead>\n",
       "    <tr style=\"text-align: right;\">\n",
       "      <th></th>\n",
       "      <th>country</th>\n",
       "      <th>2022_last_updated</th>\n",
       "      <th>2020_population</th>\n",
       "      <th>growth_rate</th>\n",
       "      <th>rank</th>\n",
       "    </tr>\n",
       "  </thead>\n",
       "  <tbody>\n",
       "    <tr>\n",
       "      <th>0</th>\n",
       "      <td>China</td>\n",
       "      <td>1447026721</td>\n",
       "      <td>1439323776</td>\n",
       "      <td>0.29%</td>\n",
       "      <td>1</td>\n",
       "    </tr>\n",
       "    <tr>\n",
       "      <th>1</th>\n",
       "      <td>India</td>\n",
       "      <td>1402170311</td>\n",
       "      <td>1380004385</td>\n",
       "      <td>0.95%</td>\n",
       "      <td>2</td>\n",
       "    </tr>\n",
       "    <tr>\n",
       "      <th>2</th>\n",
       "      <td>United States</td>\n",
       "      <td>334159979</td>\n",
       "      <td>331002651</td>\n",
       "      <td>0.57%</td>\n",
       "      <td>3</td>\n",
       "    </tr>\n",
       "    <tr>\n",
       "      <th>3</th>\n",
       "      <td>Indonesia</td>\n",
       "      <td>278195834</td>\n",
       "      <td>273523615</td>\n",
       "      <td>1.00%</td>\n",
       "      <td>4</td>\n",
       "    </tr>\n",
       "    <tr>\n",
       "      <th>4</th>\n",
       "      <td>Pakistan</td>\n",
       "      <td>228044068</td>\n",
       "      <td>220892340</td>\n",
       "      <td>1.90%</td>\n",
       "      <td>5</td>\n",
       "    </tr>\n",
       "  </tbody>\n",
       "</table>\n",
       "</div>"
      ],
      "text/plain": [
       "         country 2022_last_updated 2020_population growth_rate  rank\n",
       "0          China        1447026721      1439323776       0.29%     1\n",
       "1          India        1402170311      1380004385       0.95%     2\n",
       "2  United States         334159979       331002651       0.57%     3\n",
       "3      Indonesia         278195834       273523615       1.00%     4\n",
       "4       Pakistan         228044068       220892340       1.90%     5"
      ]
     },
     "execution_count": 15,
     "metadata": {},
     "output_type": "execute_result"
    }
   ],
   "source": [
    "df1.head()"
   ]
  },
  {
   "cell_type": "code",
   "execution_count": 16,
   "id": "fbb3b70b",
   "metadata": {},
   "outputs": [],
   "source": [
    "#Replace % sign from growth rate\n",
    "df1['growth_rate'] = df1['growth_rate'].str.replace('%', '')"
   ]
  },
  {
   "cell_type": "code",
   "execution_count": 17,
   "id": "cd0c7982",
   "metadata": {},
   "outputs": [
    {
     "data": {
      "text/html": [
       "<div>\n",
       "<style scoped>\n",
       "    .dataframe tbody tr th:only-of-type {\n",
       "        vertical-align: middle;\n",
       "    }\n",
       "\n",
       "    .dataframe tbody tr th {\n",
       "        vertical-align: top;\n",
       "    }\n",
       "\n",
       "    .dataframe thead th {\n",
       "        text-align: right;\n",
       "    }\n",
       "</style>\n",
       "<table border=\"1\" class=\"dataframe\">\n",
       "  <thead>\n",
       "    <tr style=\"text-align: right;\">\n",
       "      <th></th>\n",
       "      <th>country</th>\n",
       "      <th>2022_last_updated</th>\n",
       "      <th>2020_population</th>\n",
       "      <th>growth_rate</th>\n",
       "      <th>rank</th>\n",
       "    </tr>\n",
       "  </thead>\n",
       "  <tbody>\n",
       "    <tr>\n",
       "      <th>0</th>\n",
       "      <td>China</td>\n",
       "      <td>1447026721</td>\n",
       "      <td>1439323776</td>\n",
       "      <td>0.29</td>\n",
       "      <td>1</td>\n",
       "    </tr>\n",
       "    <tr>\n",
       "      <th>1</th>\n",
       "      <td>India</td>\n",
       "      <td>1402170311</td>\n",
       "      <td>1380004385</td>\n",
       "      <td>0.95</td>\n",
       "      <td>2</td>\n",
       "    </tr>\n",
       "    <tr>\n",
       "      <th>2</th>\n",
       "      <td>United States</td>\n",
       "      <td>334159979</td>\n",
       "      <td>331002651</td>\n",
       "      <td>0.57</td>\n",
       "      <td>3</td>\n",
       "    </tr>\n",
       "    <tr>\n",
       "      <th>3</th>\n",
       "      <td>Indonesia</td>\n",
       "      <td>278195834</td>\n",
       "      <td>273523615</td>\n",
       "      <td>1.00</td>\n",
       "      <td>4</td>\n",
       "    </tr>\n",
       "    <tr>\n",
       "      <th>4</th>\n",
       "      <td>Pakistan</td>\n",
       "      <td>228044068</td>\n",
       "      <td>220892340</td>\n",
       "      <td>1.90</td>\n",
       "      <td>5</td>\n",
       "    </tr>\n",
       "  </tbody>\n",
       "</table>\n",
       "</div>"
      ],
      "text/plain": [
       "         country 2022_last_updated 2020_population growth_rate  rank\n",
       "0          China        1447026721      1439323776        0.29     1\n",
       "1          India        1402170311      1380004385        0.95     2\n",
       "2  United States         334159979       331002651        0.57     3\n",
       "3      Indonesia         278195834       273523615        1.00     4\n",
       "4       Pakistan         228044068       220892340        1.90     5"
      ]
     },
     "execution_count": 17,
     "metadata": {},
     "output_type": "execute_result"
    }
   ],
   "source": [
    "df1.head()"
   ]
  },
  {
   "cell_type": "code",
   "execution_count": 18,
   "id": "aaf0b6ee",
   "metadata": {},
   "outputs": [],
   "source": [
    "# Convert the 3 columns to integer \n",
    "df1['2022_last_updated'] = df1['2022_last_updated'].astype(int)\n",
    "df1['2020_population'] = df1['2020_population'].astype(int)\n",
    "df1['growth_rate'] = df1['growth_rate'].astype(float)"
   ]
  },
  {
   "cell_type": "code",
   "execution_count": 19,
   "id": "8097cfa9",
   "metadata": {},
   "outputs": [
    {
     "data": {
      "text/plain": [
       "country               object\n",
       "2022_last_updated      int32\n",
       "2020_population        int32\n",
       "growth_rate          float64\n",
       "rank                   int64\n",
       "dtype: object"
      ]
     },
     "execution_count": 19,
     "metadata": {},
     "output_type": "execute_result"
    }
   ],
   "source": [
    "df1.dtypes"
   ]
  },
  {
   "cell_type": "markdown",
   "id": "0d1f2735",
   "metadata": {},
   "source": [
    "# Visualisation"
   ]
  },
  {
   "cell_type": "code",
   "execution_count": 20,
   "id": "3cd5411a",
   "metadata": {},
   "outputs": [],
   "source": [
    "# Top 10 Countries Visual \n",
    "top_10_countries = df1.groupby('country')['2022_last_updated'].mean().sort_values(ascending=False).head(10).reset_index()"
   ]
  },
  {
   "cell_type": "code",
   "execution_count": 21,
   "id": "d13d1791",
   "metadata": {},
   "outputs": [
    {
     "data": {
      "text/plain": [
       "<AxesSubplot:title={'center':'Top 10 countries '}, xlabel='country', ylabel='2022_last_updated'>"
      ]
     },
     "execution_count": 21,
     "metadata": {},
     "output_type": "execute_result"
    },
    {
     "data": {
      "image/png": "[encoded data removed]",
      "text/plain": [
       "<Figure size 864x432 with 1 Axes>"
      ]
     },
     "metadata": {
      "needs_background": "light"
     },
     "output_type": "display_data"
    }
   ],
   "source": [
    "plt.figure(figsize=(12,6))\n",
    "plt.title('Top 10 countries ')\n",
    "sns.barplot(x='country', y='2022_last_updated', data=top_10_countries)"
   ]
  },
  {
   "cell_type": "code",
   "execution_count": 22,
   "id": "97beff0c",
   "metadata": {},
   "outputs": [
    {
     "data": {
      "text/plain": [
       "<AxesSubplot:xlabel='country', ylabel='2022_last_updated'>"
      ]
     },
     "execution_count": 22,
     "metadata": {},
     "output_type": "execute_result"
    },
    {
     "data": {
      "image/png": "[encoded data removed]",
      "text/plain": [
       "<Figure size 864x432 with 1 Axes>"
      ]
     },
     "metadata": {
      "needs_background": "light"
     },
     "output_type": "display_data"
    }
   ],
   "source": [
    "plt.figure(figsize=(12,6))\n",
    "sns.lineplot(x='country', y='2022_last_updated', data=top_10_countries)"
   ]
  },
  {
   "cell_type": "code",
   "execution_count": 23,
   "id": "b6bffe9c",
   "metadata": {},
   "outputs": [
    {
     "data": {
      "text/html": [
       "<div>\n",
       "<style scoped>\n",
       "    .dataframe tbody tr th:only-of-type {\n",
       "        vertical-align: middle;\n",
       "    }\n",
       "\n",
       "    .dataframe tbody tr th {\n",
       "        vertical-align: top;\n",
       "    }\n",
       "\n",
       "    .dataframe thead th {\n",
       "        text-align: right;\n",
       "    }\n",
       "</style>\n",
       "<table border=\"1\" class=\"dataframe\">\n",
       "  <thead>\n",
       "    <tr style=\"text-align: right;\">\n",
       "      <th></th>\n",
       "      <th>country</th>\n",
       "      <th>growth_rate</th>\n",
       "    </tr>\n",
       "  </thead>\n",
       "  <tbody>\n",
       "    <tr>\n",
       "      <th>0</th>\n",
       "      <td>Syria</td>\n",
       "      <td>5.96</td>\n",
       "    </tr>\n",
       "    <tr>\n",
       "      <th>1</th>\n",
       "      <td>Niger</td>\n",
       "      <td>3.79</td>\n",
       "    </tr>\n",
       "    <tr>\n",
       "      <th>2</th>\n",
       "      <td>Equatorial Guinea</td>\n",
       "      <td>3.23</td>\n",
       "    </tr>\n",
       "    <tr>\n",
       "      <th>3</th>\n",
       "      <td>Angola</td>\n",
       "      <td>3.22</td>\n",
       "    </tr>\n",
       "    <tr>\n",
       "      <th>4</th>\n",
       "      <td>Burundi</td>\n",
       "      <td>3.01</td>\n",
       "    </tr>\n",
       "    <tr>\n",
       "      <th>5</th>\n",
       "      <td>Mali</td>\n",
       "      <td>2.96</td>\n",
       "    </tr>\n",
       "    <tr>\n",
       "      <th>6</th>\n",
       "      <td>Somalia</td>\n",
       "      <td>2.95</td>\n",
       "    </tr>\n",
       "    <tr>\n",
       "      <th>7</th>\n",
       "      <td>Chad</td>\n",
       "      <td>2.95</td>\n",
       "    </tr>\n",
       "    <tr>\n",
       "      <th>8</th>\n",
       "      <td>Tanzania</td>\n",
       "      <td>2.93</td>\n",
       "    </tr>\n",
       "    <tr>\n",
       "      <th>9</th>\n",
       "      <td>Zambia</td>\n",
       "      <td>2.90</td>\n",
       "    </tr>\n",
       "  </tbody>\n",
       "</table>\n",
       "</div>"
      ],
      "text/plain": [
       "             country  growth_rate\n",
       "0              Syria         5.96\n",
       "1              Niger         3.79\n",
       "2  Equatorial Guinea         3.23\n",
       "3             Angola         3.22\n",
       "4            Burundi         3.01\n",
       "5               Mali         2.96\n",
       "6            Somalia         2.95\n",
       "7               Chad         2.95\n",
       "8           Tanzania         2.93\n",
       "9             Zambia         2.90"
      ]
     },
     "execution_count": 23,
     "metadata": {},
     "output_type": "execute_result"
    }
   ],
   "source": [
    "# Growth Rate Visual\n",
    "top_10_growth_rate = df1.groupby('country')['growth_rate'].mean().sort_values(ascending=False).head(10).reset_index()\n",
    "top_10_growth_rate"
   ]
  },
  {
   "cell_type": "code",
   "execution_count": 24,
   "id": "b221f573",
   "metadata": {},
   "outputs": [
    {
     "data": {
      "text/plain": [
       "<AxesSubplot:xlabel='country', ylabel='growth_rate'>"
      ]
     },
     "execution_count": 24,
     "metadata": {},
     "output_type": "execute_result"
    },
    {
     "data": {
      "image/png": "[encoded data removed]",
      "text/plain": [
       "<Figure size 864x432 with 1 Axes>"
      ]
     },
     "metadata": {
      "needs_background": "light"
     },
     "output_type": "display_data"
    }
   ],
   "source": [
    "plt.figure(figsize=(12,6))\n",
    "sns.lineplot(x='country', y='growth_rate', data=top_10_growth_rate)"
   ]
  },
  {
   "cell_type": "code",
   "execution_count": 25,
   "id": "9d5bcb19",
   "metadata": {},
   "outputs": [
    {
     "data": {
      "text/html": [
       "<div>\n",
       "<style scoped>\n",
       "    .dataframe tbody tr th:only-of-type {\n",
       "        vertical-align: middle;\n",
       "    }\n",
       "\n",
       "    .dataframe tbody tr th {\n",
       "        vertical-align: top;\n",
       "    }\n",
       "\n",
       "    .dataframe thead th {\n",
       "        text-align: right;\n",
       "    }\n",
       "</style>\n",
       "<table border=\"1\" class=\"dataframe\">\n",
       "  <thead>\n",
       "    <tr style=\"text-align: right;\">\n",
       "      <th></th>\n",
       "      <th>country</th>\n",
       "      <th>2022_last_updated</th>\n",
       "    </tr>\n",
       "  </thead>\n",
       "  <tbody>\n",
       "    <tr>\n",
       "      <th>0</th>\n",
       "      <td>China</td>\n",
       "      <td>1447026721</td>\n",
       "    </tr>\n",
       "    <tr>\n",
       "      <th>1</th>\n",
       "      <td>India</td>\n",
       "      <td>1402170311</td>\n",
       "    </tr>\n",
       "    <tr>\n",
       "      <th>2</th>\n",
       "      <td>United States</td>\n",
       "      <td>334159979</td>\n",
       "    </tr>\n",
       "    <tr>\n",
       "      <th>3</th>\n",
       "      <td>Indonesia</td>\n",
       "      <td>278195834</td>\n",
       "    </tr>\n",
       "    <tr>\n",
       "      <th>4</th>\n",
       "      <td>Pakistan</td>\n",
       "      <td>228044068</td>\n",
       "    </tr>\n",
       "  </tbody>\n",
       "</table>\n",
       "</div>"
      ],
      "text/plain": [
       "         country  2022_last_updated\n",
       "0          China         1447026721\n",
       "1          India         1402170311\n",
       "2  United States          334159979\n",
       "3      Indonesia          278195834\n",
       "4       Pakistan          228044068"
      ]
     },
     "execution_count": 25,
     "metadata": {},
     "output_type": "execute_result"
    }
   ],
   "source": [
    "# Pie chart visual\n",
    "top_5_countries = df1.groupby('country')['2022_last_updated'].mean().sort_values(ascending=False).head(5).reset_index()\n",
    "top_5_countries"
   ]
  },
  {
   "cell_type": "code",
   "execution_count": 26,
   "id": "5d3cbe71",
   "metadata": {},
   "outputs": [
    {
     "data": {
      "text/plain": [
       "([<matplotlib.patches.Wedge at 0x1d955d9c160>,\n",
       "  <matplotlib.patches.Wedge at 0x1d955d9c760>,\n",
       "  <matplotlib.patches.Wedge at 0x1d955d9ce80>,\n",
       "  <matplotlib.patches.Wedge at 0x1d955da75e0>,\n",
       "  <matplotlib.patches.Wedge at 0x1d955da7d00>],\n",
       " [Text(0.36547893973044265, 1.0375091057978776, 'China'),\n",
       "  Text(-0.9564937087006651, -0.5432492845978238, 'India'),\n",
       "  Text(0.45272011154529107, -1.0025190774256716, 'United States'),\n",
       "  Text(0.8919161526711716, -0.643805542539248, 'Indonesia'),\n",
       "  Text(1.0793283642729792, -0.21225051725688543, 'Pakistan')],\n",
       " [Text(0.1993521489438778, 0.5659140577079332, '39%'),\n",
       "  Text(-0.5217238411094537, -0.296317791598813, '38%'),\n",
       "  Text(0.24693824266106784, -0.5468285876867298, '9%'),\n",
       "  Text(0.4864997196388208, -0.3511666595668625, '8%'),\n",
       "  Text(0.5887245623307158, -0.11577300941284659, '6%')])"
      ]
     },
     "execution_count": 26,
     "metadata": {},
     "output_type": "execute_result"
    },
    {
     "data": {
      "image/png": "[encoded data removed]",
      "text/plain": [
       "<Figure size 864x432 with 1 Axes>"
      ]
     },
     "metadata": {},
     "output_type": "display_data"
    }
   ],
   "source": [
    "colors = sns.color_palette('bright')[0:5]\n",
    "plt.figure(figsize=(12,6))\n",
    "plt.title('Top 5 Countries Percentage Pie Chart')\n",
    "plt.pie(top_5_countries['2022_last_updated'], labels = top_5_countries['country'], colors = colors, autopct='%.0f%%')"
   ]
  },
  {
   "cell_type": "code",
   "execution_count": 27,
   "id": "e65953b3",
   "metadata": {},
   "outputs": [
    {
     "name": "stderr",
     "output_type": "stream",
     "text": [
      "C:\\Users\\Akshay\\anaconda3\\lib\\site-packages\\seaborn\\distributions.py:2619: FutureWarning: `distplot` is a deprecated function and will be removed in a future version. Please adapt your code to use either `displot` (a figure-level function with similar flexibility) or `histplot` (an axes-level function for histograms).\n",
      "  warnings.warn(msg, FutureWarning)\n"
     ]
    },
    {
     "data": {
      "text/plain": [
       "<AxesSubplot:title={'center':'Top 5 Countries Distribution Chart'}, xlabel='2022_last_updated', ylabel='Density'>"
      ]
     },
     "execution_count": 27,
     "metadata": {},
     "output_type": "execute_result"
    },
    {
     "data": {
      "image/png": "[encoded data removed]",
      "text/plain": [
       "<Figure size 864x432 with 1 Axes>"
      ]
     },
     "metadata": {
      "needs_background": "light"
     },
     "output_type": "display_data"
    }
   ],
   "source": [
    "#Distribution Plot \n",
    "plt.figure(figsize=(12,6))\n",
    "plt.title('Top 5 Countries Distribution Chart')\n",
    "sns.distplot(top_5_countries['2022_last_updated'])"
   ]
  },
  {
   "cell_type": "code",
   "execution_count": 28,
   "id": "ae428c3d",
   "metadata": {},
   "outputs": [],
   "source": [
    "#pairplot of all df1 columns"
   ]
  },
  {
   "cell_type": "code",
   "execution_count": 29,
   "id": "21037d06",
   "metadata": {},
   "outputs": [
    {
     "data": {
      "text/plain": [
       "<seaborn.axisgrid.PairGrid at 0x1d955dfa4f0>"
      ]
     },
     "execution_count": 29,
     "metadata": {},
     "output_type": "execute_result"
    },
    {
     "data": {
      "image/png": "[encoded data removed]",
      "text/plain": [
       "<Figure size 720x720 with 20 Axes>"
      ]
     },
     "metadata": {
      "needs_background": "light"
     },
     "output_type": "display_data"
    }
   ],
   "source": [
    "sns.pairplot(df1)"
   ]
  },
  {
   "cell_type": "markdown",
   "id": "70b4f4ff",
   "metadata": {},
   "source": [
    "# Profiling Report"
   ]
  },
  {
   "cell_type": "code",
   "execution_count": null,
   "id": "1a1bbd57",
   "metadata": {},
   "outputs": [],
   "source": []
  },
  {
   "cell_type": "code",
   "execution_count": null,
   "id": "32263215",
   "metadata": {},
   "outputs": [],
   "source": []
  }
 ],
 "metadata": {
  "kernelspec": {
   "display_name": "Python 3 (ipykernel)",
   "language": "python",
   "name": "python3"
  },
  "language_info": {
   "codemirror_mode": {
    "name": "ipython",
    "version": 3
   },
   "file_extension": ".py",
   "mimetype": "text/x-python",
   "name": "python",
   "nbconvert_exporter": "python",
   "pygments_lexer": "ipython3",
   "version": "3.8.8"
  }
 },
 "nbformat": 4,
 "nbformat_minor": 5
}
